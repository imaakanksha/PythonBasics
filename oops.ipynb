{
 "cells": [
  {
   "cell_type": "code",
   "execution_count": 1,
   "metadata": {},
   "outputs": [
    {
     "name": "stdout",
     "output_type": "stream",
     "text": [
      "Akanksha Python\n"
     ]
    }
   ],
   "source": [
    "class Employee:\n",
    "    name = \"Akanksha\"\n",
    "    language = \"Python\"\n",
    "    salary = \"12000\"\n",
    "\n",
    "akanksha = Employee()\n",
    "print(akanksha.name, akanksha.language)\n"
   ]
  },
  {
   "cell_type": "code",
   "execution_count": 4,
   "metadata": {},
   "outputs": [
    {
     "name": "stdout",
     "output_type": "stream",
     "text": [
      "12000 Machine Learning & Artificial Intelligence\n",
      "Machine Learning & Artificial Intelligence 12000\n",
      "Google\n"
     ]
    }
   ],
   "source": [
    "class Employee:\n",
    "    TechnologyStack = \"Machine Learning & Artificial Intelligence\"\n",
    "    Salary=\"12000\"\n",
    "\n",
    "riya = Employee()\n",
    "print(riya.Salary, riya.TechnologyStack)\n",
    "\n",
    "rahul = Employee()\n",
    "print(rahul.TechnologyStack, rahul.Salary)\n",
    "\n",
    "class Employee1:\n",
    "    company = \"Google\"\n",
    "\n",
    "akanksha = Employee1()\n",
    "print(akanksha.company)\n"
   ]
  },
  {
   "cell_type": "code",
   "execution_count": 8,
   "metadata": {},
   "outputs": [
    {
     "name": "stdout",
     "output_type": "stream",
     "text": [
      "Akanksha Python 4400000 Microsoft\n",
      "Riya Khanna 4400000 Python Microsoft\n"
     ]
    }
   ],
   "source": [
    "class Employee2:\n",
    "    language = \"Python\" #Class Attributes\n",
    "    company = \"Microsoft\"\n",
    "    salary = 4400000\n",
    "\n",
    "akanksha = Employee2()\n",
    "akanksha.name = \"Akanksha\" #Object/Instance Attribute\n",
    "print(akanksha.name, akanksha.language, akanksha.salary, akanksha.company)\n",
    "\n",
    "riya = Employee2()\n",
    "riya.name = \"Riya Khanna\"\n",
    "print(riya.name,riya.salary,riya.language,riya.company)\n",
    "\n"
   ]
  },
  {
   "cell_type": "code",
   "execution_count": 10,
   "metadata": {},
   "outputs": [
    {
     "name": "stdout",
     "output_type": "stream",
     "text": [
      "Python Google 888999\n"
     ]
    }
   ],
   "source": [
    "class Employee():\n",
    "    language = \"Java\"\n",
    "    company = \"Google\"\n",
    "    salary = 888999\n",
    "\n",
    "akanksha = Employee()\n",
    "akanksha.language=\"Python\"\n",
    "print(akanksha.language, akanksha.company, akanksha.salary)"
   ]
  },
  {
   "cell_type": "code",
   "execution_count": null,
   "metadata": {},
   "outputs": [],
   "source": [
    "class Employee():\n",
    "    def __init__(self, name):\n",
    "        self.name = name\n",
    "    def getSalary(self):\n",
    "        pass\n",
    "akanksha = Employee(\"Akanksha\")"
   ]
  },
  {
   "cell_type": "code",
   "execution_count": 13,
   "metadata": {},
   "outputs": [
    {
     "name": "stdout",
     "output_type": "stream",
     "text": [
      "I am creating an object.\n",
      "Akanksha. 678999\n"
     ]
    }
   ],
   "source": [
    "class Employee():\n",
    "    language = \"Python\"\n",
    "    salary = 678999\n",
    "\n",
    "    def __init__(self):\n",
    "        print(\"I am creating an object.\")\n",
    "\n",
    "    def getInfo(self):\n",
    "        print(f\"The language is {self.language}. The Salary is {self.salary}\")\n",
    "\n",
    "    @staticmethod\n",
    "    def greet():\n",
    "        print(\"Good Evening\")\n",
    "\n",
    "\n",
    "akanksha = Employee()\n",
    "akanksha.name = \"Akanksha.\"\n",
    "print(akanksha.name, akanksha.salary)\n",
    "\n"
   ]
  }
 ],
 "metadata": {
  "kernelspec": {
   "display_name": "Python 3",
   "language": "python",
   "name": "python3"
  },
  "language_info": {
   "codemirror_mode": {
    "name": "ipython",
    "version": 3
   },
   "file_extension": ".py",
   "mimetype": "text/x-python",
   "name": "python",
   "nbconvert_exporter": "python",
   "pygments_lexer": "ipython3",
   "version": "3.13.0"
  }
 },
 "nbformat": 4,
 "nbformat_minor": 2
}
