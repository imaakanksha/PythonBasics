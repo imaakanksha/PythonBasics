{
 "cells": [
  {
   "cell_type": "code",
   "execution_count": 7,
   "metadata": {},
   "outputs": [
    {
     "name": "stdout",
     "output_type": "stream",
     "text": [
      "       Name   Age   Salary\n",
      "0  Akanksha  34.0  12000.0\n",
      "1    Sakshi  44.0  34444.0\n",
      "2     Rohan   NaN  78999.0\n",
      "3      None  22.0      NaN\n",
      "4      Riya  23.0  88888.0\n",
      "    Name    Age  Salary\n",
      "0  False  False   False\n",
      "1  False  False   False\n",
      "2  False   True   False\n",
      "3   True  False    True\n",
      "4  False  False   False\n",
      "       Name   Age   Salary\n",
      "0  Akanksha  34.0  12000.0\n",
      "1    Sakshi  44.0  34444.0\n",
      "2     Rohan  44.0  78999.0\n",
      "3      None  22.0      NaN\n",
      "4      Riya  23.0  88888.0\n"
     ]
    },
    {
     "name": "stderr",
     "output_type": "stream",
     "text": [
      "C:\\Users\\akank\\AppData\\Local\\Temp\\ipykernel_12636\\1188075881.py:11: FutureWarning: A value is trying to be set on a copy of a DataFrame or Series through chained assignment using an inplace method.\n",
      "The behavior will change in pandas 3.0. This inplace method will never work because the intermediate object on which we are setting values always behaves as a copy.\n",
      "\n",
      "For example, when doing 'df[col].method(value, inplace=True)', try using 'df.method({col: value}, inplace=True)' or df[col] = df[col].method(value) instead, to perform the operation inplace on the original object.\n",
      "\n",
      "\n",
      "  df['Age'].fillna(44,inplace=True)\n"
     ]
    }
   ],
   "source": [
    "import pandas as pd\n",
    "data = {'Name':['Akanksha',\"Sakshi\",\"Rohan\",None,\"Riya\"],\n",
    "'Age':[34,44,None,22,23],\n",
    "'Salary':[12000,34444,78999,None,88888]}\n",
    "df = pd.DataFrame(data)\n",
    "print(df)\n",
    "\n",
    "print(df.isnull())\n",
    "\n",
    "# Filling the missing values with the mean of the column\n",
    "df['Age'].fillna(44,inplace=True)\n",
    "print(df)"
   ]
  },
  {
   "cell_type": "code",
   "execution_count": 12,
   "metadata": {},
   "outputs": [
    {
     "name": "stdout",
     "output_type": "stream",
     "text": [
      "0    False\n",
      "1     True\n",
      "2    False\n",
      "3    False\n",
      "dtype: bool\n",
      "       Name  Age\n",
      "0  Akanksha   22\n",
      "2     Rohan   44\n",
      "3      Aman   55\n"
     ]
    }
   ],
   "source": [
    "data={'Name':['Akanksha','Akanksha','Rohan','Aman'],\n",
    "      'Age':[22,22,44,55]}\n",
    "df=pd.DataFrame(data)\n",
    "print(df.duplicated())\n",
    "\n",
    "df = df.drop_duplicates()\n",
    "print(df)"
   ]
  }
 ],
 "metadata": {
  "kernelspec": {
   "display_name": "Python 3",
   "language": "python",
   "name": "python3"
  },
  "language_info": {
   "codemirror_mode": {
    "name": "ipython",
    "version": 3
   },
   "file_extension": ".py",
   "mimetype": "text/x-python",
   "name": "python",
   "nbconvert_exporter": "python",
   "pygments_lexer": "ipython3",
   "version": "3.13.0"
  }
 },
 "nbformat": 4,
 "nbformat_minor": 2
}
