{
 "cells": [
  {
   "cell_type": "code",
   "execution_count": 4,
   "metadata": {},
   "outputs": [
    {
     "name": "stdout",
     "output_type": "stream",
     "text": [
      "Machine Learning enables systems to learn from the data\n",
      "        It involves various algorithms such as the  supervised, unsupervised and reinforcement Learning.\n",
      "        Machine Learning is a subset of the Artificial Intelligence.\n",
      "        Neural networks inspired by the human brain are used for the deep learning models to handle and optimize the decision making processes.\n"
     ]
    }
   ],
   "source": [
    "print('''Machine Learning enables systems to learn from the data\n",
    "        It involves various algorithms such as the  supervised, unsupervised and reinforcement Learning.\n",
    "        Machine Learning is a subset of the Artificial Intelligence.\n",
    "        Neural networks inspired by the human brain are used for the deep learning models to handle and optimize the decision making processes.''')"
   ]
  },
  {
   "cell_type": "code",
   "execution_count": 6,
   "metadata": {},
   "outputs": [
    {
     "name": "stdout",
     "output_type": "stream",
     "text": [
      "$RECYCLE.BIN\n",
      "AI&ML\n",
      "dev\n",
      "Development\n",
      "DSA_Python\n",
      "FastPy\n",
      "IRIS\n",
      "LeetCodeQuestions\n",
      "MachineLearningClassProject\n",
      "ML Project 1\n",
      "PreProcessing\n",
      "PythonBasics\n",
      "PythonLIbrary\n",
      "PythonPractice\n",
      "Python_Coding_Questions\n",
      "Samrtphone Backup\n",
      "System Volume Information\n"
     ]
    }
   ],
   "source": [
    "import os\n",
    "directory_path='/'\n",
    "contents = os.listdir(directory_path)\n",
    "for item in contents:\n",
    "    print(item)"
   ]
  },
  {
   "cell_type": "code",
   "execution_count": 7,
   "metadata": {},
   "outputs": [
    {
     "name": "stdout",
     "output_type": "stream",
     "text": [
      "5\n",
      "10\n",
      "15\n",
      "20\n",
      "25\n",
      "30\n",
      "35\n",
      "40\n",
      "45\n",
      "50\n"
     ]
    }
   ],
   "source": [
    "for i in range(1,11):\n",
    "    print(5*i)"
   ]
  },
  {
   "cell_type": "code",
   "execution_count": 10,
   "metadata": {},
   "outputs": [
    {
     "name": "stdout",
     "output_type": "stream",
     "text": [
      "3.0\n",
      "4.0\n",
      "6.0\n",
      "True\n",
      "The Truth Table of OR\n",
      "True\n",
      "True\n",
      "True\n",
      "False\n",
      "The Truth Table of AND\n",
      "False\n",
      "False\n",
      "True\n",
      "False\n",
      "To See the datatype:\n",
      "<class 'int'>\n",
      "<class 'float'>\n",
      "<class 'str'>\n",
      "<class 'bool'>\n"
     ]
    }
   ],
   "source": [
    "a=1\n",
    "b=3.0\n",
    "print(b)\n",
    "print(a+b)\n",
    "c=\"Akanksha\"\n",
    "d=False\n",
    "e=None\n",
    "b += 3\n",
    "print(b)\n",
    "\n",
    "e = True or False\n",
    "print(e)\n",
    "#Truth Table of OR\n",
    "print(\"The Truth Table of OR\")\n",
    "print(True or False)\n",
    "print(False or True)\n",
    "print(True or True)\n",
    "print(False or False)\n",
    "print(\"The Truth Table of AND\")\n",
    "print(True and False)\n",
    "print(False and True)\n",
    "print(True and True)\n",
    "print(False and False)\n",
    "\n",
    "print(\"To See the datatype:\")\n",
    "print(type(a))\n",
    "print(type(b))\n",
    "print(type(c))\n",
    "print(type(d))"
   ]
  },
  {
   "cell_type": "code",
   "execution_count": 30,
   "metadata": {},
   "outputs": [
    {
     "name": "stdout",
     "output_type": "stream",
     "text": [
      "Akanksha Mishra\n",
      "akanksha\n",
      "Akanksha\n",
      "k\n",
      "A\n",
      "Akan\n",
      "shr\n",
      "Aka\n",
      "kanksha Mishra\n",
      "Aakh\n",
      "15\n",
      "False\n",
      "True\n",
      "Akanksha\n",
      "AKANKSHA\n",
      "akanksha\n",
      "9\n",
      "Akanksha Python\n"
     ]
    }
   ],
   "source": [
    "str1='Akanksha Mishra'\n",
    "str2=\"akanksha\"\n",
    "str3='''Akanksha'''\n",
    "print(str1)\n",
    "print(str2)\n",
    "print(str3)\n",
    "print(str1[1])\n",
    "print(str1[0])\n",
    "print(str1[0:4])\n",
    "print(str1[-4:-1])\n",
    "print(str1[:3])\n",
    "print(str1[1:])\n",
    "print(str1[0:7:2])\n",
    "\n",
    "print(len(str1))\n",
    "print(str1.endswith(\"sha\"))\n",
    "print(str1.startswith(\"Aka\"))\n",
    "print(str2.capitalize())\n",
    "print(str2.upper())\n",
    "print(str2.lower())\n",
    "print(str1.find(\"Mishra\"))\n",
    "print(str1.replace(\"Mishra\",\"Python\"))\n"
   ]
  },
  {
   "cell_type": "code",
   "execution_count": 9,
   "metadata": {},
   "outputs": [
    {
     "name": "stdout",
     "output_type": "stream",
     "text": [
      "['Akanksha', 1, 2, 2.4, True, False, None]\n",
      "Akanksha\n",
      "Akanksha\n",
      "['Python', 1, 2, 2.4, True, False, None]\n",
      "[1, 2, 2.4]\n",
      "[1, 2, 3, 3, 4, 5, 22, 55, 100]\n",
      "[100, 55, 22, 5, 4, 3, 3, 2, 1]\n",
      "[100, 55, 22, 5, 4, 3, 3, 2, 1, 2]\n",
      "['Python', 2, 2.4, True, False, None]\n",
      "['Python', 2.4, True, False, None]\n"
     ]
    }
   ],
   "source": [
    "list1=[\"Akanksha\", 1,2, 2.4, True, False, None]\n",
    "print(list1)\n",
    "print(list1[0])\n",
    "print(list1[0])\n",
    "list1[0] = \"Python\"\n",
    "print(list1)\n",
    "print(list1[1:4])\n",
    "list2=[5,3,55,22,100,2,1,3,4,]\n",
    "list2.sort()\n",
    "print(list2)\n",
    "list2.reverse()\n",
    "print(list2)\n",
    "list2.insert(222,2)\n",
    "print(list2)\n",
    "list1.pop(1)\n",
    "print(list1)\n",
    "list1.remove(2)\n",
    "print(list1)\n"
   ]
  },
  {
   "cell_type": "code",
   "execution_count": 57,
   "metadata": {},
   "outputs": [
    {
     "name": "stdout",
     "output_type": "stream",
     "text": [
      "<class 'tuple'>\n",
      "<class 'list'>\n",
      "<class 'tuple'>\n",
      "<class 'tuple'>\n",
      "5\n",
      "3\n",
      "False\n",
      "10\n"
     ]
    }
   ],
   "source": [
    "tuple1=(1,2,3,4,5)\n",
    "list1=[1,2,3,4,5]\n",
    "print(type(tuple1))\n",
    "print(type(list1))\n",
    "a =(1,)\n",
    "print(type(a))\n",
    "\n",
    "tuple3=(\"Rani\", \"Akanksha\",1,2,2,2,2,2,3,2.4)\n",
    "print(type(tuple3))\n",
    "no=tuple3.count(2)\n",
    "print(no)\n",
    "\n",
    "no1=tuple3.index(2)\n",
    "print(no1)\n",
    "print(22 in tuple3)\n",
    "print(len(tuple3))"
   ]
  },
  {
   "cell_type": "code",
   "execution_count": 2,
   "metadata": {},
   "outputs": [
    {
     "name": "stdout",
     "output_type": "stream",
     "text": [
      "[]\n",
      "['Amazon', 'Google', 'Facebook', 'Samsung', 'Flipkart', 'Samsung', 'KPMG']\n"
     ]
    }
   ],
   "source": [
    "# Write a program to store seven company names is a list entered by the user.\n",
    "company = []\n",
    "print(company)\n",
    "f1=input(\"Enter the name of Company: \")\n",
    "company.append(f1)\n",
    "f2=input(\"Enter the name of Company: \")\n",
    "company.append(f2)\n",
    "f3=input(\"Enter the name of Company: \")\n",
    "company.append(f3)\n",
    "f4=input(\"Enter the name of Company: \")\n",
    "company.append(f4)\n",
    "f5=input(\"Enter the name of Company: \")\n",
    "company.append(f5)\n",
    "f6=input(\"Enter the name of Company: \")\n",
    "company.append(f6)\n",
    "f7=input(\"Enter the name of Company: \")\n",
    "company.append(f7)\n",
    "print(company)"
   ]
  },
  {
   "cell_type": "code",
   "execution_count": 5,
   "metadata": {},
   "outputs": [
    {
     "name": "stdout",
     "output_type": "stream",
     "text": [
      "[]\n",
      "[33, 44, 66, 77, 77, 88]\n"
     ]
    }
   ],
   "source": [
    "#Write a program to accept the marks of the 6 students and display them in a sorted way.\n",
    "Marks = []\n",
    "print(Marks)\n",
    "f1=int(input(\"Enter the value of the Marks:\"))\n",
    "Marks.append(f1)\n",
    "f2=int(input(\"Enter the value of the Marks:\"))\n",
    "Marks.append(f2)\n",
    "f3=int(input(\"Enter the value of the Marks:\"))\n",
    "Marks.append(f3)\n",
    "f4=int(input(\"Enter the value of the Marks:\"))\n",
    "Marks.append(f4)\n",
    "f5=int(input(\"Enter the value of the Marks:\"))\n",
    "Marks.append(f5)\n",
    "f6=int(input(\"Enter the value of the Marks:\"))\n",
    "Marks.append(f6)\n",
    "Marks.sort()\n",
    "print(Marks)"
   ]
  },
  {
   "cell_type": "code",
   "execution_count": 6,
   "metadata": {},
   "outputs": [
    {
     "name": "stdout",
     "output_type": "stream",
     "text": [
      "155\n"
     ]
    }
   ],
   "source": [
    "#Write a program to sum a list with 4 members.\n",
    "list1=[44,22,33,56]\n",
    "print(sum(list1))"
   ]
  },
  {
   "cell_type": "code",
   "execution_count": 8,
   "metadata": {},
   "outputs": [
    {
     "name": "stdout",
     "output_type": "stream",
     "text": [
      "3\n"
     ]
    }
   ],
   "source": [
    "#Write a program to count the number of the zeros in the following tuple.\n",
    "a=(7,4,0,8,0,2,30,0)\n",
    "n = a.count(0)\n",
    "print(n)"
   ]
  },
  {
   "cell_type": "code",
   "execution_count": 15,
   "metadata": {},
   "outputs": [
    {
     "name": "stdout",
     "output_type": "stream",
     "text": [
      "{'Akanksha': 100, 'Sakshi': 99, 'Sam': 56, 'list': [55, 66, 77, 44], 1: 'Sunny'} <class 'dict'>\n",
      "100\n",
      "99\n",
      "dict_items([('Akanksha', 100), ('Sakshi', 99), ('Sam', 56), ('list', [55, 66, 77, 44]), (1, 'Sunny')])\n"
     ]
    }
   ],
   "source": [
    "#Dictonary\n",
    "marks = {\n",
    "    \"Akanksha\":100,\n",
    "    \"Sakshi\":99,\n",
    "    \"Sam\":56,\n",
    "    \"list\":[55,66,77,44],\n",
    "    1:\"Sunny\"\n",
    "}\n",
    "print(marks, type(marks))\n",
    "\n",
    "print(marks[\"Akanksha\"])\n",
    "print(marks[\"Sakshi\"])\n",
    "print(marks.items())"
   ]
  },
  {
   "cell_type": "code",
   "execution_count": 23,
   "metadata": {},
   "outputs": [
    {
     "name": "stdout",
     "output_type": "stream",
     "text": [
      "dict_items([('Sakshi', 700), (456, 'Ram'), ('Rishabh', 566), (900, 'Roshan')])\n",
      "dict_keys(['Sakshi', 456, 'Rishabh', 900])\n",
      "dict_values([700, 'Ram', 566, 'Roshan'])\n",
      "{'Sakshi': 700, 456: 'Ram', 'Rishabh': 566, 900: 'Roshan', 'Akanksha': 567}\n",
      "567\n",
      "567\n",
      "<class 'dict'>\n"
     ]
    }
   ],
   "source": [
    "dict1={\n",
    "    \"Sakshi\":700,\n",
    "    456:\"Ram\",\n",
    "    \"Rishabh\":566,\n",
    "    900:\"Roshan\"\n",
    "}\n",
    "print(dict1.items())\n",
    "print(dict1.keys())\n",
    "print(dict1.values())\n",
    "dict1.update({\"Sakshi\":700,\"Akanksha\":567})\n",
    "print(dict1)\n",
    "print(dict1.get(\"Akanksha\"))\n",
    "print(dict1[\"Akanksha\"])\n",
    "d={}\n",
    "print(type(d))"
   ]
  },
  {
   "cell_type": "code",
   "execution_count": 27,
   "metadata": {},
   "outputs": [
    {
     "name": "stdout",
     "output_type": "stream",
     "text": [
      "<class 'set'>\n",
      "{33, 2, 66, 44, 'Sakshi', 'Akanksha', 55, 444} <class 'set'>\n",
      "<class 'dict'>\n",
      "<class 'set'>\n"
     ]
    }
   ],
   "source": [
    "set1={2,33,444,55,66,44,2,2,2,2,2,2,2,\"Akanksha\",\"Sakshi\"}\n",
    "print(type(set1))\n",
    "print(set1, type(set1))\n",
    "s={}\n",
    "print(type(s))\n",
    "s = set()\n",
    "print(type(s))"
   ]
  }
 ],
 "metadata": {
  "kernelspec": {
   "display_name": "Python 3",
   "language": "python",
   "name": "python3"
  },
  "language_info": {
   "codemirror_mode": {
    "name": "ipython",
    "version": 3
   },
   "file_extension": ".py",
   "mimetype": "text/x-python",
   "name": "python",
   "nbconvert_exporter": "python",
   "pygments_lexer": "ipython3",
   "version": "3.13.0"
  }
 },
 "nbformat": 4,
 "nbformat_minor": 2
}
