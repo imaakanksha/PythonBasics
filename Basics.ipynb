{
 "cells": [
  {
   "cell_type": "code",
   "execution_count": 4,
   "metadata": {},
   "outputs": [
    {
     "name": "stdout",
     "output_type": "stream",
     "text": [
      "Machine Learning enables systems to learn from the data\n",
      "        It involves various algorithms such as the  supervised, unsupervised and reinforcement Learning.\n",
      "        Machine Learning is a subset of the Artificial Intelligence.\n",
      "        Neural networks inspired by the human brain are used for the deep learning models to handle and optimize the decision making processes.\n"
     ]
    }
   ],
   "source": [
    "print('''Machine Learning enables systems to learn from the data\n",
    "        It involves various algorithms such as the  supervised, unsupervised and reinforcement Learning.\n",
    "        Machine Learning is a subset of the Artificial Intelligence.\n",
    "        Neural networks inspired by the human brain are used for the deep learning models to handle and optimize the decision making processes.''')"
   ]
  },
  {
   "cell_type": "code",
   "execution_count": 6,
   "metadata": {},
   "outputs": [
    {
     "name": "stdout",
     "output_type": "stream",
     "text": [
      "$RECYCLE.BIN\n",
      "AI&ML\n",
      "dev\n",
      "Development\n",
      "DSA_Python\n",
      "FastPy\n",
      "IRIS\n",
      "LeetCodeQuestions\n",
      "MachineLearningClassProject\n",
      "ML Project 1\n",
      "PreProcessing\n",
      "PythonBasics\n",
      "PythonLIbrary\n",
      "PythonPractice\n",
      "Python_Coding_Questions\n",
      "Samrtphone Backup\n",
      "System Volume Information\n"
     ]
    }
   ],
   "source": [
    "import os\n",
    "directory_path='/'\n",
    "contents = os.listdir(directory_path)\n",
    "for item in contents:\n",
    "    print(item)"
   ]
  },
  {
   "cell_type": "code",
   "execution_count": 7,
   "metadata": {},
   "outputs": [
    {
     "name": "stdout",
     "output_type": "stream",
     "text": [
      "5\n",
      "10\n",
      "15\n",
      "20\n",
      "25\n",
      "30\n",
      "35\n",
      "40\n",
      "45\n",
      "50\n"
     ]
    }
   ],
   "source": [
    "for i in range(1,11):\n",
    "    print(5*i)"
   ]
  }
 ],
 "metadata": {
  "kernelspec": {
   "display_name": "Python 3",
   "language": "python",
   "name": "python3"
  },
  "language_info": {
   "codemirror_mode": {
    "name": "ipython",
    "version": 3
   },
   "file_extension": ".py",
   "mimetype": "text/x-python",
   "name": "python",
   "nbconvert_exporter": "python",
   "pygments_lexer": "ipython3",
   "version": "3.13.0"
  }
 },
 "nbformat": 4,
 "nbformat_minor": 2
}
