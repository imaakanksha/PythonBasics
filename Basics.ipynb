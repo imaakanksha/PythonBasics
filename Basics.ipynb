{
 "cells": [
  {
   "cell_type": "code",
   "execution_count": 4,
   "metadata": {},
   "outputs": [
    {
     "name": "stdout",
     "output_type": "stream",
     "text": [
      "Machine Learning enables systems to learn from the data\n",
      "        It involves various algorithms such as the  supervised, unsupervised and reinforcement Learning.\n",
      "        Machine Learning is a subset of the Artificial Intelligence.\n",
      "        Neural networks inspired by the human brain are used for the deep learning models to handle and optimize the decision making processes.\n"
     ]
    }
   ],
   "source": [
    "print('''Machine Learning enables systems to learn from the data\n",
    "        It involves various algorithms such as the  supervised, unsupervised and reinforcement Learning.\n",
    "        Machine Learning is a subset of the Artificial Intelligence.\n",
    "        Neural networks inspired by the human brain are used for the deep learning models to handle and optimize the decision making processes.''')"
   ]
  },
  {
   "cell_type": "code",
   "execution_count": 6,
   "metadata": {},
   "outputs": [
    {
     "name": "stdout",
     "output_type": "stream",
     "text": [
      "$RECYCLE.BIN\n",
      "AI&ML\n",
      "dev\n",
      "Development\n",
      "DSA_Python\n",
      "FastPy\n",
      "IRIS\n",
      "LeetCodeQuestions\n",
      "MachineLearningClassProject\n",
      "ML Project 1\n",
      "PreProcessing\n",
      "PythonBasics\n",
      "PythonLIbrary\n",
      "PythonPractice\n",
      "Python_Coding_Questions\n",
      "Samrtphone Backup\n",
      "System Volume Information\n"
     ]
    }
   ],
   "source": [
    "import os\n",
    "directory_path='/'\n",
    "contents = os.listdir(directory_path)\n",
    "for item in contents:\n",
    "    print(item)"
   ]
  },
  {
   "cell_type": "code",
   "execution_count": 7,
   "metadata": {},
   "outputs": [
    {
     "name": "stdout",
     "output_type": "stream",
     "text": [
      "5\n",
      "10\n",
      "15\n",
      "20\n",
      "25\n",
      "30\n",
      "35\n",
      "40\n",
      "45\n",
      "50\n"
     ]
    }
   ],
   "source": [
    "for i in range(1,11):\n",
    "    print(5*i)"
   ]
  },
  {
   "cell_type": "code",
   "execution_count": 10,
   "metadata": {},
   "outputs": [
    {
     "name": "stdout",
     "output_type": "stream",
     "text": [
      "3.0\n",
      "4.0\n",
      "6.0\n",
      "True\n",
      "The Truth Table of OR\n",
      "True\n",
      "True\n",
      "True\n",
      "False\n",
      "The Truth Table of AND\n",
      "False\n",
      "False\n",
      "True\n",
      "False\n",
      "To See the datatype:\n",
      "<class 'int'>\n",
      "<class 'float'>\n",
      "<class 'str'>\n",
      "<class 'bool'>\n"
     ]
    }
   ],
   "source": [
    "a=1\n",
    "b=3.0\n",
    "print(b)\n",
    "print(a+b)\n",
    "c=\"Akanksha\"\n",
    "d=False\n",
    "e=None\n",
    "b += 3\n",
    "print(b)\n",
    "\n",
    "e = True or False\n",
    "print(e)\n",
    "#Truth Table of OR\n",
    "print(\"The Truth Table of OR\")\n",
    "print(True or False)\n",
    "print(False or True)\n",
    "print(True or True)\n",
    "print(False or False)\n",
    "print(\"The Truth Table of AND\")\n",
    "print(True and False)\n",
    "print(False and True)\n",
    "print(True and True)\n",
    "print(False and False)\n",
    "\n",
    "print(\"To See the datatype:\")\n",
    "print(type(a))\n",
    "print(type(b))\n",
    "print(type(c))\n",
    "print(type(d))"
   ]
  },
  {
   "cell_type": "code",
   "execution_count": 30,
   "metadata": {},
   "outputs": [
    {
     "name": "stdout",
     "output_type": "stream",
     "text": [
      "Akanksha Mishra\n",
      "akanksha\n",
      "Akanksha\n",
      "k\n",
      "A\n",
      "Akan\n",
      "shr\n",
      "Aka\n",
      "kanksha Mishra\n",
      "Aakh\n",
      "15\n",
      "False\n",
      "True\n",
      "Akanksha\n",
      "AKANKSHA\n",
      "akanksha\n",
      "9\n",
      "Akanksha Python\n"
     ]
    }
   ],
   "source": [
    "str1='Akanksha Mishra'\n",
    "str2=\"akanksha\"\n",
    "str3='''Akanksha'''\n",
    "print(str1)\n",
    "print(str2)\n",
    "print(str3)\n",
    "print(str1[1])\n",
    "print(str1[0])\n",
    "print(str1[0:4])\n",
    "print(str1[-4:-1])\n",
    "print(str1[:3])\n",
    "print(str1[1:])\n",
    "print(str1[0:7:2])\n",
    "\n",
    "print(len(str1))\n",
    "print(str1.endswith(\"sha\"))\n",
    "print(str1.startswith(\"Aka\"))\n",
    "print(str2.capitalize())\n",
    "print(str2.upper())\n",
    "print(str2.lower())\n",
    "print(str1.find(\"Mishra\"))\n",
    "print(str1.replace(\"Mishra\",\"Python\"))\n"
   ]
  },
  {
   "cell_type": "code",
   "execution_count": 9,
   "metadata": {},
   "outputs": [
    {
     "name": "stdout",
     "output_type": "stream",
     "text": [
      "['Akanksha', 1, 2, 2.4, True, False, None]\n",
      "Akanksha\n",
      "Akanksha\n",
      "['Python', 1, 2, 2.4, True, False, None]\n",
      "[1, 2, 2.4]\n",
      "[1, 2, 3, 3, 4, 5, 22, 55, 100]\n",
      "[100, 55, 22, 5, 4, 3, 3, 2, 1]\n",
      "[100, 55, 22, 5, 4, 3, 3, 2, 1, 2]\n",
      "['Python', 2, 2.4, True, False, None]\n",
      "['Python', 2.4, True, False, None]\n"
     ]
    }
   ],
   "source": [
    "list1=[\"Akanksha\", 1,2, 2.4, True, False, None]\n",
    "print(list1)\n",
    "print(list1[0])\n",
    "print(list1[0])\n",
    "list1[0] = \"Python\"\n",
    "print(list1)\n",
    "print(list1[1:4])\n",
    "list2=[5,3,55,22,100,2,1,3,4,]\n",
    "list2.sort()\n",
    "print(list2)\n",
    "list2.reverse()\n",
    "print(list2)\n",
    "list2.insert(222,2)\n",
    "print(list2)\n",
    "list1.pop(1)\n",
    "print(list1)\n",
    "list1.remove(2)\n",
    "print(list1)\n"
   ]
  },
  {
   "cell_type": "code",
   "execution_count": 57,
   "metadata": {},
   "outputs": [
    {
     "name": "stdout",
     "output_type": "stream",
     "text": [
      "<class 'tuple'>\n",
      "<class 'list'>\n",
      "<class 'tuple'>\n",
      "<class 'tuple'>\n",
      "5\n",
      "3\n",
      "False\n",
      "10\n"
     ]
    }
   ],
   "source": [
    "tuple1=(1,2,3,4,5)\n",
    "list1=[1,2,3,4,5]\n",
    "print(type(tuple1))\n",
    "print(type(list1))\n",
    "a =(1,)\n",
    "print(type(a))\n",
    "\n",
    "tuple3=(\"Rani\", \"Akanksha\",1,2,2,2,2,2,3,2.4)\n",
    "print(type(tuple3))\n",
    "no=tuple3.count(2)\n",
    "print(no)\n",
    "\n",
    "no1=tuple3.index(2)\n",
    "print(no1)\n",
    "print(22 in tuple3)\n",
    "print(len(tuple3))"
   ]
  },
  {
   "cell_type": "code",
   "execution_count": 2,
   "metadata": {},
   "outputs": [
    {
     "name": "stdout",
     "output_type": "stream",
     "text": [
      "[]\n",
      "['Amazon', 'Google', 'Facebook', 'Samsung', 'Flipkart', 'Samsung', 'KPMG']\n"
     ]
    }
   ],
   "source": [
    "# Write a program to store seven company names is a list entered by the user.\n",
    "company = []\n",
    "print(company)\n",
    "f1=input(\"Enter the name of Company: \")\n",
    "company.append(f1)\n",
    "f2=input(\"Enter the name of Company: \")\n",
    "company.append(f2)\n",
    "f3=input(\"Enter the name of Company: \")\n",
    "company.append(f3)\n",
    "f4=input(\"Enter the name of Company: \")\n",
    "company.append(f4)\n",
    "f5=input(\"Enter the name of Company: \")\n",
    "company.append(f5)\n",
    "f6=input(\"Enter the name of Company: \")\n",
    "company.append(f6)\n",
    "f7=input(\"Enter the name of Company: \")\n",
    "company.append(f7)\n",
    "print(company)"
   ]
  },
  {
   "cell_type": "code",
   "execution_count": 5,
   "metadata": {},
   "outputs": [
    {
     "name": "stdout",
     "output_type": "stream",
     "text": [
      "[]\n",
      "[33, 44, 66, 77, 77, 88]\n"
     ]
    }
   ],
   "source": [
    "#Write a program to accept the marks of the 6 students and display them in a sorted way.\n",
    "Marks = []\n",
    "print(Marks)\n",
    "f1=int(input(\"Enter the value of the Marks:\"))\n",
    "Marks.append(f1)\n",
    "f2=int(input(\"Enter the value of the Marks:\"))\n",
    "Marks.append(f2)\n",
    "f3=int(input(\"Enter the value of the Marks:\"))\n",
    "Marks.append(f3)\n",
    "f4=int(input(\"Enter the value of the Marks:\"))\n",
    "Marks.append(f4)\n",
    "f5=int(input(\"Enter the value of the Marks:\"))\n",
    "Marks.append(f5)\n",
    "f6=int(input(\"Enter the value of the Marks:\"))\n",
    "Marks.append(f6)\n",
    "Marks.sort()\n",
    "print(Marks)"
   ]
  },
  {
   "cell_type": "code",
   "execution_count": 6,
   "metadata": {},
   "outputs": [
    {
     "name": "stdout",
     "output_type": "stream",
     "text": [
      "155\n"
     ]
    }
   ],
   "source": [
    "#Write a program to sum a list with 4 members.\n",
    "list1=[44,22,33,56]\n",
    "print(sum(list1))"
   ]
  },
  {
   "cell_type": "code",
   "execution_count": 8,
   "metadata": {},
   "outputs": [
    {
     "name": "stdout",
     "output_type": "stream",
     "text": [
      "3\n"
     ]
    }
   ],
   "source": [
    "#Write a program to count the number of the zeros in the following tuple.\n",
    "a=(7,4,0,8,0,2,30,0)\n",
    "n = a.count(0)\n",
    "print(n)"
   ]
  },
  {
   "cell_type": "code",
   "execution_count": 15,
   "metadata": {},
   "outputs": [
    {
     "name": "stdout",
     "output_type": "stream",
     "text": [
      "{'Akanksha': 100, 'Sakshi': 99, 'Sam': 56, 'list': [55, 66, 77, 44], 1: 'Sunny'} <class 'dict'>\n",
      "100\n",
      "99\n",
      "dict_items([('Akanksha', 100), ('Sakshi', 99), ('Sam', 56), ('list', [55, 66, 77, 44]), (1, 'Sunny')])\n"
     ]
    }
   ],
   "source": [
    "#Dictonary\n",
    "marks = {\n",
    "    \"Akanksha\":100,\n",
    "    \"Sakshi\":99,\n",
    "    \"Sam\":56,\n",
    "    \"list\":[55,66,77,44],\n",
    "    1:\"Sunny\"\n",
    "}\n",
    "print(marks, type(marks))\n",
    "\n",
    "print(marks[\"Akanksha\"])\n",
    "print(marks[\"Sakshi\"])\n",
    "print(marks.items())"
   ]
  },
  {
   "cell_type": "code",
   "execution_count": 23,
   "metadata": {},
   "outputs": [
    {
     "name": "stdout",
     "output_type": "stream",
     "text": [
      "dict_items([('Sakshi', 700), (456, 'Ram'), ('Rishabh', 566), (900, 'Roshan')])\n",
      "dict_keys(['Sakshi', 456, 'Rishabh', 900])\n",
      "dict_values([700, 'Ram', 566, 'Roshan'])\n",
      "{'Sakshi': 700, 456: 'Ram', 'Rishabh': 566, 900: 'Roshan', 'Akanksha': 567}\n",
      "567\n",
      "567\n",
      "<class 'dict'>\n"
     ]
    }
   ],
   "source": [
    "dict1={\n",
    "    \"Sakshi\":700,\n",
    "    456:\"Ram\",\n",
    "    \"Rishabh\":566,\n",
    "    900:\"Roshan\"\n",
    "}\n",
    "print(dict1.items())\n",
    "print(dict1.keys())\n",
    "print(dict1.values())\n",
    "dict1.update({\"Sakshi\":700,\"Akanksha\":567})\n",
    "print(dict1)\n",
    "print(dict1.get(\"Akanksha\"))\n",
    "print(dict1[\"Akanksha\"])\n",
    "d={}\n",
    "print(type(d))"
   ]
  },
  {
   "cell_type": "code",
   "execution_count": 27,
   "metadata": {},
   "outputs": [
    {
     "name": "stdout",
     "output_type": "stream",
     "text": [
      "<class 'set'>\n",
      "{33, 2, 66, 44, 'Sakshi', 'Akanksha', 55, 444} <class 'set'>\n",
      "<class 'dict'>\n",
      "<class 'set'>\n"
     ]
    }
   ],
   "source": [
    "set1={2,33,444,55,66,44,2,2,2,2,2,2,2,\"Akanksha\",\"Sakshi\"}\n",
    "print(type(set1))\n",
    "print(set1, type(set1))\n",
    "s={}\n",
    "print(type(s))\n",
    "s = set()\n",
    "print(type(s))"
   ]
  },
  {
   "cell_type": "code",
   "execution_count": 11,
   "metadata": {},
   "outputs": [
    {
     "name": "stdout",
     "output_type": "stream",
     "text": [
      "6\n",
      "{1, 2, 3, 4, 5, 6}\n",
      "{2, 3, 4, 5, 6}\n",
      "{3, 4, 5, 6}\n",
      "set()\n",
      "set()\n",
      "{0, 789, 7, 8, 9, 56, 44}\n",
      "{8, 9, 0, 7}\n"
     ]
    },
    {
     "data": {
      "text/plain": [
       "{7, 8, 90}"
      ]
     },
     "execution_count": 11,
     "metadata": {},
     "output_type": "execute_result"
    }
   ],
   "source": [
    "set2={1,2,3,4,4,4,5,6}\n",
    "print(len(set2))\n",
    "print(set2)\n",
    "set2.remove(1)\n",
    "print(set2)\n",
    "set2.pop()\n",
    "print(set2)\n",
    "set2.clear()\n",
    "print(set2)\n",
    "set3={7,8,9,0}\n",
    "print(set2)\n",
    "print(set3.union({44,56,789}))\n",
    "print(set3)\n",
    "\n",
    "set4={7,8,90,89}\n",
    "set4.intersection({7,8,90,34})"
   ]
  },
  {
   "cell_type": "code",
   "execution_count": 19,
   "metadata": {},
   "outputs": [
    {
     "name": "stdout",
     "output_type": "stream",
     "text": [
      "{66, 3, 4, 5, 6, 7, 8, 9, 77, 55} <class 'set'>\n",
      "{66, 3, 4, 5, 6, 7, 8, 9, 77, 67889, 55}\n",
      "{66, 3, 4, 5, 6, 7, 8, 9, 12, 77, 78, 22, 34, 45, 67889, 55, 56}\n",
      "{9, 6}\n",
      "False\n",
      "False\n"
     ]
    }
   ],
   "source": [
    "s1={55,66,77,4,3,4,5,7,8,9,6}\n",
    "s2={45,22,34,12,56,78,9,6}\n",
    "print(s1,type(s1))\n",
    "s1.add(67889)\n",
    "print(s1)\n",
    "print(s1.union(s2))\n",
    "print(s1.intersection(s2))\n",
    "\n",
    "print(s1.issuperset({789444}))\n",
    "print({6600,772}.issubset(s1))"
   ]
  },
  {
   "cell_type": "code",
   "execution_count": 20,
   "metadata": {},
   "outputs": [
    {
     "name": "stdout",
     "output_type": "stream",
     "text": [
      "Mother\n"
     ]
    }
   ],
   "source": [
    "#Write the program to create a dictionary o9f Hindi words with the values as their English Translation.\n",
    "\n",
    "dict1={\"Madat\":\"Help\",\n",
    "       \"Billi\":\"Cat\",\n",
    "       \"Maa\":\"Mother\",\n",
    "       \"Papa\":\"Father\"\n",
    "}\n",
    "\n",
    "word=input(\"Enter the word for which you want the meaning of: \")\n",
    "print(dict1[word])"
   ]
  },
  {
   "cell_type": "code",
   "execution_count": 23,
   "metadata": {},
   "outputs": [
    {
     "name": "stdout",
     "output_type": "stream",
     "text": [
      "{66, 44, 77, 55}\n"
     ]
    }
   ],
   "source": [
    "# Write a program to input eight numbers from the user and display all the unique numbers (once).\n",
    "\n",
    "s=set()\n",
    "n=int(input(\"Enter the value of the number:\"))\n",
    "s.add(int(n))\n",
    "n=int(input(\"Enter the value of the number:\"))\n",
    "s.add(int(n))\n",
    "n=int(input(\"Enter the value of the number:\"))\n",
    "s.add(int(n))\n",
    "n=int(input(\"Enter the value of the number:\"))\n",
    "s.add(int(n))\n",
    "n=int(input(\"Enter the value of the number:\"))\n",
    "s.add(int(n))\n",
    "n=int(input(\"Enter the value of the number:\"))\n",
    "s.add(int(n))\n",
    "n=int(input(\"Enter the value of the number:\"))\n",
    "s.add(int(n))\n",
    "n=int(input(\"Enter the value of the number:\"))\n",
    "s.add(int(n))\n",
    "print(s)\n"
   ]
  },
  {
   "cell_type": "code",
   "execution_count": 24,
   "metadata": {},
   "outputs": [
    {
     "name": "stdout",
     "output_type": "stream",
     "text": [
      "{18, '18'}\n"
     ]
    }
   ],
   "source": [
    "#Can we have a set with 18{int} and \"18\" (str) as a value in it?\n",
    "s=set()\n",
    "s.add(18)\n",
    "s.add(\"18\")\n",
    "print(s)"
   ]
  },
  {
   "cell_type": "code",
   "execution_count": 26,
   "metadata": {},
   "outputs": [
    {
     "name": "stdout",
     "output_type": "stream",
     "text": [
      "<class 'dict'>\n"
     ]
    }
   ],
   "source": [
    "s={}\n",
    "print(type(s))\n",
    "#set1=set()"
   ]
  },
  {
   "cell_type": "code",
   "execution_count": 27,
   "metadata": {},
   "outputs": [
    {
     "name": "stdout",
     "output_type": "stream",
     "text": [
      "{'Sonali': 'C++', 'Shubham': 'JavaScript', 'Akanksha': 'Python', 'Sakshi': 'Java'}\n"
     ]
    }
   ],
   "source": [
    "#Create an empty dictionary. Allow your 4 friends to enter their favourite Language as value and use key as their names. Assume that the name are always unique.\n",
    "d={}\n",
    "name=input(\"Enter the name of Friend:\")\n",
    "lang=input(\"Enter the Favourite Language Name:\")\n",
    "d.update({name:lang})\n",
    "name=input(\"Enter the name of Friend:\")\n",
    "lang=input(\"Enter the Favourite Language Name:\")\n",
    "d.update({name:lang})\n",
    "name=input(\"Enter the name of Friend:\")\n",
    "lang=input(\"Enter the Favourite Language Name:\")\n",
    "d.update({name:lang})\n",
    "name=input(\"Enter the name of Friend:\")\n",
    "lang=input(\"Enter the Favourite Language Name:\")\n",
    "d.update({name:lang})\n",
    "print(d)"
   ]
  },
  {
   "cell_type": "code",
   "execution_count": 29,
   "metadata": {},
   "outputs": [
    {
     "name": "stdout",
     "output_type": "stream",
     "text": [
      "You are above the age of consent.\n",
      "Good For YOu\n",
      " End of the Program.\n"
     ]
    }
   ],
   "source": [
    "a=int(input(\"Enter the value of the age:\"))\n",
    "if(a>18):\n",
    "    print(\"You are above the age of consent.\")\n",
    "    print(\"Good For YOu\")\n",
    "elif(a<0):\n",
    "    print(\"You are entering the invalid age.\")\n",
    "elif(a==0):\n",
    "    print(\"You are entering 0 which is not a valid age.\")\n",
    "else:\n",
    "    print(\"You are below the age of consent.\")\n",
    "\n",
    "print(\" End of the Program.\")"
   ]
  },
  {
   "cell_type": "code",
   "execution_count": 1,
   "metadata": {},
   "outputs": [
    {
     "name": "stdout",
     "output_type": "stream",
     "text": [
      "YES\n"
     ]
    }
   ],
   "source": [
    "#Write a Program to print YES when the age entered by the user is greater than or equal to 18.as_integer_ratio\n",
    "\n",
    "age=int(input(\"Enter the value of the age of person:\"))\n",
    "if(age>18):\n",
    "    print(\"YES\")\n",
    "else:\n",
    "    print(\"No\")"
   ]
  },
  {
   "cell_type": "code",
   "execution_count": 2,
   "metadata": {},
   "outputs": [
    {
     "name": "stdout",
     "output_type": "stream",
     "text": [
      "[7, 89, 234, 1234]\n",
      "The largest value among these 4 numbers is: 1234\n"
     ]
    }
   ],
   "source": [
    "# Relational Operators: == , <=, >=\n",
    "# Logical Operators :AND, OR, NOT\n",
    "\n",
    "# Write a program to find the greatest of the four numbers entered by the users.\n",
    "list1=[]\n",
    "num1=int(input(\"Enter the value of Number 1:\"))\n",
    "list1.append(num1)\n",
    "num2=int(input(\"Enter the value of Number 2:\"))\n",
    "list1.append(num2)\n",
    "num3=int(input(\"Enter the value of Number 3:\"))\n",
    "list1.append(num3)\n",
    "num4=int(input(\"Enter the value of Number 4:\"))\n",
    "list1.append(num4)\n",
    "print(list1)\n",
    "print(\"The largest value among these 4 numbers is:\", max(list1))"
   ]
  },
  {
   "cell_type": "code",
   "execution_count": 3,
   "metadata": {},
   "outputs": [
    {
     "name": "stdout",
     "output_type": "stream",
     "text": [
      "This content is a spam\n"
     ]
    }
   ],
   "source": [
    "#Write a program to detect these spams: \"Click this\", \"Subscribe now\"\n",
    "p1=\"Click this\"\n",
    "p2=\"Subscribe now\"\n",
    "\n",
    "message=input(\"Enter the message which you want to check as if it is spam or not:\")\n",
    "if((p1 in message) or (p2 in message)):\n",
    "    print(\"This content is a spam\")\n",
    "else:\n",
    "    print(\"This content is not a spam\")"
   ]
  },
  {
   "cell_type": "code",
   "execution_count": 4,
   "metadata": {},
   "outputs": [
    {
     "name": "stdout",
     "output_type": "stream",
     "text": [
      "1\n",
      "2\n",
      "3\n",
      "4\n",
      "5\n",
      "6\n",
      "7\n",
      "8\n",
      "9\n",
      "10\n",
      "11\n",
      "12\n",
      "13\n",
      "14\n",
      "15\n",
      "16\n",
      "17\n",
      "18\n",
      "19\n",
      "20\n",
      "21\n",
      "22\n",
      "23\n",
      "24\n",
      "25\n",
      "26\n",
      "27\n",
      "28\n",
      "29\n",
      "30\n",
      "31\n",
      "32\n",
      "33\n",
      "34\n",
      "35\n",
      "36\n",
      "37\n",
      "38\n",
      "39\n",
      "40\n",
      "41\n",
      "42\n",
      "43\n",
      "44\n",
      "45\n",
      "46\n",
      "47\n",
      "48\n",
      "49\n",
      "50\n"
     ]
    }
   ],
   "source": [
    "# Loops in Python\n",
    "\n",
    "i = 1\n",
    "while(i<51):\n",
    "    print(i)\n",
    "    i+=1"
   ]
  },
  {
   "cell_type": "code",
   "execution_count": 8,
   "metadata": {},
   "outputs": [
    {
     "name": "stdout",
     "output_type": "stream",
     "text": [
      "2\n",
      "4\n",
      "3\n",
      "2\n",
      "Akanksha\n",
      "Saturday\n",
      "Sunday\n",
      "This is the output by the use of For Loop.\n",
      "2\n",
      "4\n",
      "3\n",
      "2\n",
      "Akanksha\n",
      "Saturday\n",
      "Sunday\n",
      "The use of For LOOP with string\n",
      "A\n",
      "k\n",
      "a\n",
      "n\n",
      "k\n",
      "s\n",
      "h\n",
      "a\n"
     ]
    }
   ],
   "source": [
    "# Write a program to print the content of the List using the while loop.\n",
    "\n",
    "List1=[2,4,3,2,\"Akanksha\", \"Saturday\", \"Sunday\"]\n",
    "\n",
    "i = 0\n",
    "while(i<len(List1)):\n",
    "    print(List1[i])\n",
    "    i+=1\n",
    "\n",
    "print(\"This is the output by the use of For Loop.\")\n",
    "\n",
    "for i in List1:\n",
    "    print(i)\n",
    "\n",
    "\n",
    "print(\"The use of For LOOP with string\")\n",
    "s=\"Akanksha\"\n",
    "for i in s:\n",
    "    print(i)"
   ]
  },
  {
   "cell_type": "code",
   "execution_count": 6,
   "metadata": {},
   "outputs": [
    {
     "name": "stdout",
     "output_type": "stream",
     "text": [
      "0\n",
      "4\n",
      "8\n",
      "12\n",
      "16\n",
      "20\n",
      "24\n",
      "28\n",
      "32\n",
      "36\n",
      "40\n",
      "44\n",
      "48\n",
      "52\n",
      "56\n",
      "60\n",
      "64\n",
      "68\n",
      "72\n",
      "76\n",
      "80\n",
      "84\n",
      "88\n",
      "92\n",
      "96\n"
     ]
    }
   ],
   "source": [
    "#RANGE FUNCTION IN PYTHON\n",
    "\n",
    "for i in range(0,100,4):\n",
    "    print(i)"
   ]
  },
  {
   "cell_type": "code",
   "execution_count": 9,
   "metadata": {},
   "outputs": [
    {
     "name": "stdout",
     "output_type": "stream",
     "text": [
      "Sam\n",
      "Tom\n",
      "Bom\n",
      "Fom\n",
      "All the elements of the Lists are already printed.\n"
     ]
    }
   ],
   "source": [
    "#For LOOP with ELSE\n",
    "\n",
    "lst=[\"Sam\",\"Tom\",\"Bom\",\"Fom\"]\n",
    "for item in lst:\n",
    "    print(item)\n",
    "else:\n",
    "    print(\"All the elements of the Lists are already printed.\")"
   ]
  },
  {
   "cell_type": "code",
   "execution_count": 12,
   "metadata": {},
   "outputs": [
    {
     "name": "stdout",
     "output_type": "stream",
     "text": [
      "0\n",
      "1\n",
      "2\n",
      "3\n",
      "4\n",
      "5\n",
      "6\n",
      "7\n",
      "8\n",
      "9\n",
      "10\n",
      "11\n"
     ]
    }
   ],
   "source": [
    "#Break Statement\n",
    "\n",
    "for i in range(0,70):\n",
    "    if i == 12:\n",
    "        break\n",
    "    print(i)"
   ]
  },
  {
   "cell_type": "code",
   "execution_count": 14,
   "metadata": {},
   "outputs": [
    {
     "name": "stdout",
     "output_type": "stream",
     "text": [
      "1\n",
      "2\n",
      "3\n",
      "4\n",
      "5\n",
      "7\n",
      "8\n",
      "9\n",
      "10\n",
      "11\n",
      "12\n"
     ]
    }
   ],
   "source": [
    "#Continue Statement\n",
    "\n",
    "for i  in range(1,13):\n",
    "    if i == 6:\n",
    "        continue\n",
    "    print(i)\n"
   ]
  },
  {
   "cell_type": "code",
   "execution_count": 18,
   "metadata": {},
   "outputs": [],
   "source": [
    "# PASS Statement\n",
    "\n",
    "list2=[\"Sam\",\"Saki\",\"Sania\",\"Rom\"]\n",
    "for item in list2:\n",
    "    pass    "
   ]
  },
  {
   "cell_type": "code",
   "execution_count": 23,
   "metadata": {},
   "outputs": [
    {
     "name": "stdout",
     "output_type": "stream",
     "text": [
      "The Given number is a Prime Number.\n"
     ]
    }
   ],
   "source": [
    "# Write the program to find whether the given number is prime or not.\n",
    "n=int(input(\"Enter the value of the number for which you want to check if the given number is prime or not:\"))\n",
    "for i in range(2,n):\n",
    "    if(n%i == 0):\n",
    "        print(\"The given number is not Prime Number.  It is a Composite Number.\")\n",
    "        break\n",
    "else:\n",
    "    print(\"The Given number is a Prime Number.\")\n"
   ]
  },
  {
   "cell_type": "code",
   "execution_count": 2,
   "metadata": {},
   "outputs": [
    {
     "name": "stdout",
     "output_type": "stream",
     "text": [
      "*\n",
      "**\n",
      "***\n",
      "****\n"
     ]
    }
   ],
   "source": [
    "#Write a program to print the following star pattern :\n",
    "#*\n",
    "#**\n",
    "#***\n",
    "n=int(input(\"Enter the value of n:\"))\n",
    "for i in range(1,n+1):\n",
    "    print(\"*\"*(i), end=\"\")\n",
    "    print(\"\")"
   ]
  },
  {
   "cell_type": "code",
   "execution_count": 5,
   "metadata": {},
   "outputs": [
    {
     "name": "stdout",
     "output_type": "stream",
     "text": [
      "8.0\n",
      "Thankyou\n",
      "5.0\n",
      "Second Time is ave4rage is printed.\n"
     ]
    }
   ],
   "source": [
    "#Function\n",
    "\n",
    "def avg():\n",
    "    a=int(input(\"Enter the value of first number:\"))\n",
    "    b=int(input(\"Enter the value of 2nd number:\"))\n",
    "    c=int(input(\"Enter the value of 3rd number:\"))\n",
    "    average=(a+b+c)/3\n",
    "    print(average)\n",
    "\n",
    "avg()\n",
    "print(\"Thankyou\")\n",
    "avg()\n",
    "print(\"Second Time is ave4rage is printed.\")"
   ]
  },
  {
   "cell_type": "code",
   "execution_count": 6,
   "metadata": {},
   "outputs": [
    {
     "name": "stdout",
     "output_type": "stream",
     "text": [
      "Hello Sakshi\n"
     ]
    }
   ],
   "source": [
    "def greet(name):\n",
    "    gr=\"Hello\" + \" \"+name\n",
    "    return gr\n",
    "a = greet(\"Sakshi\")\n",
    "print(a)\n"
   ]
  },
  {
   "cell_type": "code",
   "execution_count": 8,
   "metadata": {},
   "outputs": [
    {
     "name": "stdout",
     "output_type": "stream",
     "text": [
      "The factorial of the number 7 is :5040\n"
     ]
    }
   ],
   "source": [
    "def factorial(n):\n",
    "    if n == 0 or n == 1:\n",
    "        return 1\n",
    "    return n*factorial(n-1)\n",
    "\n",
    "n=int(input(\"Enter the value of the number for which you want to calculate the factorial:\"))\n",
    "print(f\"The factorial of the number {n} is :{factorial(n)}\")"
   ]
  },
  {
   "cell_type": "code",
   "execution_count": null,
   "metadata": {},
   "outputs": [],
   "source": []
  }
 ],
 "metadata": {
  "kernelspec": {
   "display_name": "Python 3",
   "language": "python",
   "name": "python3"
  },
  "language_info": {
   "codemirror_mode": {
    "name": "ipython",
    "version": 3
   },
   "file_extension": ".py",
   "mimetype": "text/x-python",
   "name": "python",
   "nbconvert_exporter": "python",
   "pygments_lexer": "ipython3",
   "version": "3.13.0"
  }
 },
 "nbformat": 4,
 "nbformat_minor": 2
}
