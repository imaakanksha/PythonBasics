{
 "cells": [
  {
   "cell_type": "code",
   "execution_count": 4,
   "metadata": {},
   "outputs": [
    {
     "name": "stdout",
     "output_type": "stream",
     "text": [
      "Machine Learning enables systems to learn from the data\n",
      "        It involves various algorithms such as the  supervised, unsupervised and reinforcement Learning.\n",
      "        Machine Learning is a subset of the Artificial Intelligence.\n",
      "        Neural networks inspired by the human brain are used for the deep learning models to handle and optimize the decision making processes.\n"
     ]
    }
   ],
   "source": [
    "print('''Machine Learning enables systems to learn from the data\n",
    "        It involves various algorithms such as the  supervised, unsupervised and reinforcement Learning.\n",
    "        Machine Learning is a subset of the Artificial Intelligence.\n",
    "        Neural networks inspired by the human brain are used for the deep learning models to handle and optimize the decision making processes.''')"
   ]
  },
  {
   "cell_type": "code",
   "execution_count": 6,
   "metadata": {},
   "outputs": [
    {
     "name": "stdout",
     "output_type": "stream",
     "text": [
      "$RECYCLE.BIN\n",
      "AI&ML\n",
      "dev\n",
      "Development\n",
      "DSA_Python\n",
      "FastPy\n",
      "IRIS\n",
      "LeetCodeQuestions\n",
      "MachineLearningClassProject\n",
      "ML Project 1\n",
      "PreProcessing\n",
      "PythonBasics\n",
      "PythonLIbrary\n",
      "PythonPractice\n",
      "Python_Coding_Questions\n",
      "Samrtphone Backup\n",
      "System Volume Information\n"
     ]
    }
   ],
   "source": [
    "import os\n",
    "directory_path='/'\n",
    "contents = os.listdir(directory_path)\n",
    "for item in contents:\n",
    "    print(item)"
   ]
  },
  {
   "cell_type": "code",
   "execution_count": 7,
   "metadata": {},
   "outputs": [
    {
     "name": "stdout",
     "output_type": "stream",
     "text": [
      "5\n",
      "10\n",
      "15\n",
      "20\n",
      "25\n",
      "30\n",
      "35\n",
      "40\n",
      "45\n",
      "50\n"
     ]
    }
   ],
   "source": [
    "for i in range(1,11):\n",
    "    print(5*i)"
   ]
  },
  {
   "cell_type": "code",
   "execution_count": 10,
   "metadata": {},
   "outputs": [
    {
     "name": "stdout",
     "output_type": "stream",
     "text": [
      "3.0\n",
      "4.0\n",
      "6.0\n",
      "True\n",
      "The Truth Table of OR\n",
      "True\n",
      "True\n",
      "True\n",
      "False\n",
      "The Truth Table of AND\n",
      "False\n",
      "False\n",
      "True\n",
      "False\n",
      "To See the datatype:\n",
      "<class 'int'>\n",
      "<class 'float'>\n",
      "<class 'str'>\n",
      "<class 'bool'>\n"
     ]
    }
   ],
   "source": [
    "a=1\n",
    "b=3.0\n",
    "print(b)\n",
    "print(a+b)\n",
    "c=\"Akanksha\"\n",
    "d=False\n",
    "e=None\n",
    "b += 3\n",
    "print(b)\n",
    "\n",
    "e = True or False\n",
    "print(e)\n",
    "#Truth Table of OR\n",
    "print(\"The Truth Table of OR\")\n",
    "print(True or False)\n",
    "print(False or True)\n",
    "print(True or True)\n",
    "print(False or False)\n",
    "print(\"The Truth Table of AND\")\n",
    "print(True and False)\n",
    "print(False and True)\n",
    "print(True and True)\n",
    "print(False and False)\n",
    "\n",
    "print(\"To See the datatype:\")\n",
    "print(type(a))\n",
    "print(type(b))\n",
    "print(type(c))\n",
    "print(type(d))"
   ]
  },
  {
   "cell_type": "code",
   "execution_count": 30,
   "metadata": {},
   "outputs": [
    {
     "name": "stdout",
     "output_type": "stream",
     "text": [
      "Akanksha Mishra\n",
      "akanksha\n",
      "Akanksha\n",
      "k\n",
      "A\n",
      "Akan\n",
      "shr\n",
      "Aka\n",
      "kanksha Mishra\n",
      "Aakh\n",
      "15\n",
      "False\n",
      "True\n",
      "Akanksha\n",
      "AKANKSHA\n",
      "akanksha\n",
      "9\n",
      "Akanksha Python\n"
     ]
    }
   ],
   "source": [
    "str1='Akanksha Mishra'\n",
    "str2=\"akanksha\"\n",
    "str3='''Akanksha'''\n",
    "print(str1)\n",
    "print(str2)\n",
    "print(str3)\n",
    "print(str1[1])\n",
    "print(str1[0])\n",
    "print(str1[0:4])\n",
    "print(str1[-4:-1])\n",
    "print(str1[:3])\n",
    "print(str1[1:])\n",
    "print(str1[0:7:2])\n",
    "\n",
    "print(len(str1))\n",
    "print(str1.endswith(\"sha\"))\n",
    "print(str1.startswith(\"Aka\"))\n",
    "print(str2.capitalize())\n",
    "print(str2.upper())\n",
    "print(str2.lower())\n",
    "print(str1.find(\"Mishra\"))\n",
    "print(str1.replace(\"Mishra\",\"Python\"))\n"
   ]
  },
  {
   "cell_type": "code",
   "execution_count": 44,
   "metadata": {},
   "outputs": [
    {
     "name": "stdout",
     "output_type": "stream",
     "text": [
      "['Akanksha', 1, 2, 2.4, True, False, None]\n",
      "Akanksha\n",
      "['Python', 1, 2, 2.4, True, False, None]\n",
      "[1, 2, 2.4]\n",
      "[1, 2, 3, 3, 4, 5, 22, 55, 100]\n",
      "[100, 55, 22, 5, 4, 3, 3, 2, 1]\n",
      "[100, 55, 22, 5, 4, 3, 3, 2, 1, 2]\n",
      "['Python', 2, 2.4, True, False, None]\n",
      "['Python', 2.4, True, False, None]\n"
     ]
    }
   ],
   "source": [
    "list1=[\"Akanksha\", 1,2, 2.4, True, False, None]\n",
    "print(list1)\n",
    "print(list1[0])\n",
    "list1[0] = \"Python\"\n",
    "print(list1)\n",
    "print(list1[1:4])\n",
    "list2=[5,3,55,22,100,2,1,3,4,]\n",
    "list2.sort()\n",
    "print(list2)\n",
    "list2.reverse()\n",
    "print(list2)\n",
    "list2.insert(222,2)\n",
    "print(list2)\n",
    "list1.pop(1)\n",
    "print(list1)\n",
    "list1.remove(2)\n",
    "print(list1)\n"
   ]
  },
  {
   "cell_type": "code",
   "execution_count": 57,
   "metadata": {},
   "outputs": [
    {
     "name": "stdout",
     "output_type": "stream",
     "text": [
      "<class 'tuple'>\n",
      "<class 'list'>\n",
      "<class 'tuple'>\n",
      "<class 'tuple'>\n",
      "5\n",
      "3\n",
      "False\n",
      "10\n"
     ]
    }
   ],
   "source": [
    "tuple1=(1,2,3,4,5)\n",
    "list1=[1,2,3,4,5]\n",
    "print(type(tuple1))\n",
    "print(type(list1))\n",
    "a =(1,)\n",
    "print(type(a))\n",
    "\n",
    "tuple3=(\"Rani\", \"Akanksha\",1,2,2,2,2,2,3,2.4)\n",
    "print(type(tuple3))\n",
    "no=tuple3.count(2)\n",
    "print(no)\n",
    "\n",
    "no1=tuple3.index(2)\n",
    "print(no1)\n",
    "print(22 in tuple3)\n",
    "print(len(tuple3))"
   ]
  },
  {
   "cell_type": "code",
   "execution_count": null,
   "metadata": {},
   "outputs": [],
   "source": []
  }
 ],
 "metadata": {
  "kernelspec": {
   "display_name": "Python 3",
   "language": "python",
   "name": "python3"
  },
  "language_info": {
   "codemirror_mode": {
    "name": "ipython",
    "version": 3
   },
   "file_extension": ".py",
   "mimetype": "text/x-python",
   "name": "python",
   "nbconvert_exporter": "python",
   "pygments_lexer": "ipython3",
   "version": "3.13.0"
  }
 },
 "nbformat": 4,
 "nbformat_minor": 2
}
